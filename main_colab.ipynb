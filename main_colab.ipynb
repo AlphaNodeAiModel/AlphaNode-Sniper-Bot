!pip install pybit requests

from scanner import scan_market
from telegram_alerts import send_signal
import time

print("🚀 AlphaNode Bot Started...")

while True:
    try:
        signals = scan_market()
        for signal in signals:
            symbol, direction, price = signal
            send_signal(symbol, direction, price)
            print(f"✅ Signal Sent: {symbol} - {direction}")
    except Exception as e:
        print("Loop Error:", e)

    time.sleep(60)  # Run every 1 minute
